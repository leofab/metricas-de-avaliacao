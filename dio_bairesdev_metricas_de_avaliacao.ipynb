{
  "nbformat": 4,
  "nbformat_minor": 0,
  "metadata": {
    "colab": {
      "provenance": [],
      "gpuType": "V28"
    },
    "kernelspec": {
      "name": "python3",
      "display_name": "Python 3"
    },
    "language_info": {
      "name": "python"
    },
    "accelerator": "TPU"
  },
  "cells": [
    {
      "cell_type": "markdown",
      "source": [
        "# Métricas de Avaliação de aprendizado - Terceiro Desafio de Projeto\n",
        "\n",
        "Seguindo as instruções do professor Diego Renan, faremos agora os cálculos das métricas de avaliação de modelos deep learning, utilizando os resultados do treinamento de reconhecimento de padrões fixados em uma matriz de confusão.\n",
        "\n",
        "Começamos com o carregamento do ambiente.\n",
        "\n",
        "*Following Professor Diego Renan's instructions, we will now calculate the metrics for evaluating deep learning models, using the results of the pattern recognition training established in a confusion matrix.*\n",
        "\n",
        "*We begin by loading the environment.*"
      ],
      "metadata": {
        "id": "ZqOZbQNzDQ2L"
      }
    },
    {
      "cell_type": "code",
      "execution_count": 1,
      "metadata": {
        "colab": {
          "base_uri": "https://localhost:8080/"
        },
        "id": "UF9DyV4JZlCp",
        "outputId": "96b4d880-b4b0-41dd-f386-59a7c12bb7d6"
      },
      "outputs": [
        {
          "output_type": "stream",
          "name": "stdout",
          "text": [
            "Tensorflow version 2.15.0\n"
          ]
        }
      ],
      "source": [
        "import tensorflow as tf\n",
        "print(\"Tensorflow version \" + tf.__version__)\n",
        "\n",
        "from tensorflow.keras import datasets, layers, models\n",
        "import matplotlib.pyplot as plt\n",
        "import numpy as np\n",
        "import seaborn as sns\n",
        "import pandas as pd\n",
        "from sklearn import metrics\n",
        "from sklearn import preprocessing"
      ]
    },
    {
      "cell_type": "code",
      "source": [
        "try:\n",
        "  tpu = tf.distribute.cluster_resolver.TPUClusterResolver()  # TPU detection\n",
        "  print(f'Running on a TPU w/{tpu.num_accelerators()[\"TPU\"]} cores')\n",
        "except ValueError:\n",
        "  raise BaseException('ERROR: Not connected to a TPU runtime; please see the previous cell in this notebook for instructions!')\n",
        "\n",
        "\n",
        "tf.config.experimental_connect_to_cluster(tpu)\n",
        "tf.tpu.experimental.initialize_tpu_system(tpu)\n",
        "tpu_strategy = tf.distribute.TPUStrategy(tpu)"
      ],
      "metadata": {
        "colab": {
          "base_uri": "https://localhost:8080/"
        },
        "id": "oymkQUqZptC1",
        "outputId": "8b1935bd-6a53-41ff-d676-7422a06e7da6"
      },
      "execution_count": 2,
      "outputs": [
        {
          "output_type": "stream",
          "name": "stdout",
          "text": [
            "Running on a TPU w/8 cores\n"
          ]
        }
      ]
    },
    {
      "cell_type": "markdown",
      "source": [
        "O conjunto de dados MNIST (Modified National Institute of Standards and Technology) é uma grande base de dados de dígitos manuscritos que é normalmente utilizada para treinar vários sistemas de processamento de imagem e modelos de aprendizagem automática.\n",
        "\n",
        "O trecho de código a seguir representa a divisão das imagens em dois grupos, treinamento e validação (teste), juntamente com o `reshape` para um determinado número total de imagens de 28x28 pixels com 1 canal de cor `(6000, 28, 28, 1)`. Após aplicamos a normalização das cores de pixels por 255 para estar entre o range de 0 e 1, facilitando o rápido aprendizado da rede.\n",
        "\n",
        "Cada classe da lista `classes` representa os números de 0 a 9 desenhadas em papel.\n",
        "\n",
        "*The Modified National Institute of Standards and Technology (MNIST) dataset is a large dataset of handwritten digits that is commonly used to train various image processing systems and machine learning models.*\n",
        "\n",
        "*The following code snippet represents the division of the images into two groups, training and validation (testing), along with the reshaping for a given total number of 28x28 pixel images with 1 color channel (6000, 28, 28, 1). We then normalize the pixel colors by 255 to be between the range of 0 and 1, increasing models performance.*\n",
        "\n",
        "*Each class in the classes list represents the numbers 0 to 9 drawn on paper.*"
      ],
      "metadata": {
        "id": "8RGhCW9wCvJ4"
      }
    },
    {
      "cell_type": "code",
      "source": [
        "(train_images, train_labels), (test_images, test_labels) = datasets.mnist.load_data()\n",
        "\n",
        "train_images = train_images.reshape((60000, 28, 28, 1))\n",
        "test_images = test_images.reshape((10000, 28, 28, 1))\n",
        "\n",
        "train_images, test_images = train_images / 255.0, test_images / 255.0\n",
        "\n",
        "classes=[0,1,2,3,4,5,6,7,8,9]"
      ],
      "metadata": {
        "id": "U2i-PnbSqKJC",
        "colab": {
          "base_uri": "https://localhost:8080/"
        },
        "outputId": "ba57b264-3eb0-4117-992b-3dfff26c24e8"
      },
      "execution_count": 3,
      "outputs": [
        {
          "output_type": "stream",
          "name": "stdout",
          "text": [
            "Downloading data from https://storage.googleapis.com/tensorflow/tf-keras-datasets/mnist.npz\n",
            "11490434/11490434 [==============================] - 0s 0us/step\n"
          ]
        }
      ]
    },
    {
      "cell_type": "markdown",
      "source": [
        "Agora, dentro do escopo da nossa `tpu_strategy` (utiliza o ambiente TPU ao invés de GPU), montamos um modelo simples com 3 camadas de convolução 2D (utilizando 32 filtros 3x3 na primeira camada, seguido de 64 filtros de 3x3 nas camadas adjacentes) realizando a Rectified Linear Unit (regressão não linear que funciona como linear) para o treinamento da rede.\n",
        "\n",
        "*Now, within the scope of our `tpu_strategy` (it uses the TPU environment instead of GPU), we set up a simple model with 3 2D convolution layers (using 32 3x3 filters in the first layer, followed by 64 3x3 filters in the adjacent layers) performing the Rectified Linear Unit (non-linear regression that works like linear) for training the network.*"
      ],
      "metadata": {
        "id": "pE2dIDObE92p"
      }
    },
    {
      "cell_type": "code",
      "source": [
        "with tpu_strategy.scope():\n",
        "  model = models.Sequential()\n",
        "  model.add(layers.Conv2D(32, (3, 3), activation='relu', input_shape=(28, 28, 1)))\n",
        "\n",
        "  model.add(layers.Flatten())\n",
        "  model.add(layers.Dense(64, activation='relu'))\n",
        "  model.add(layers.Dense(10, activation='softmax'))\n",
        "\n",
        "  model.compile(optimizer='adam',\n",
        "              loss='sparse_categorical_crossentropy',\n",
        "              metrics=['accuracy'])"
      ],
      "metadata": {
        "id": "VggsIOg2qOo0"
      },
      "execution_count": 4,
      "outputs": []
    },
    {
      "cell_type": "code",
      "source": [
        "model.fit(x=train_images,\n",
        "            y=train_labels,\n",
        "            epochs=3,\n",
        "            validation_data=(test_images, test_labels))"
      ],
      "metadata": {
        "colab": {
          "base_uri": "https://localhost:8080/"
        },
        "id": "tBKw8Kfmqgwk",
        "outputId": "742a60ec-0652-44e1-820e-6af4061049e5"
      },
      "execution_count": 5,
      "outputs": [
        {
          "output_type": "stream",
          "name": "stdout",
          "text": [
            "Epoch 1/3\n",
            "1875/1875 [==============================] - 25s 12ms/step - loss: 0.1529 - accuracy: 0.9537 - val_loss: 0.0612 - val_accuracy: 0.9809\n",
            "Epoch 2/3\n",
            "1875/1875 [==============================] - 20s 11ms/step - loss: 0.0512 - accuracy: 0.9842 - val_loss: 0.0616 - val_accuracy: 0.9806\n",
            "Epoch 3/3\n",
            "1875/1875 [==============================] - 20s 11ms/step - loss: 0.0306 - accuracy: 0.9901 - val_loss: 0.0536 - val_accuracy: 0.9838\n"
          ]
        },
        {
          "output_type": "execute_result",
          "data": {
            "text/plain": [
              "<keras.src.callbacks.History at 0x7bdfbbf2f370>"
            ]
          },
          "metadata": {},
          "execution_count": 5
        }
      ]
    },
    {
      "cell_type": "code",
      "source": [
        "y_true=test_labels\n",
        "y_pred=model.predict(test_images)"
      ],
      "metadata": {
        "colab": {
          "base_uri": "https://localhost:8080/"
        },
        "id": "86-3wDUuqlh9",
        "outputId": "fa0213d4-2a8b-4d58-bdf1-af01a8d1e2cb"
      },
      "execution_count": 6,
      "outputs": [
        {
          "output_type": "stream",
          "name": "stdout",
          "text": [
            "313/313 [==============================] - 6s 13ms/step\n"
          ]
        }
      ]
    },
    {
      "cell_type": "markdown",
      "source": [
        "Como `model.predict_classes()` foi descontinuado, agora usamos a fórmula abaixo para obter as previsões de classes, onde `np.argmax(y_pred, axis=1)` retorna uma matriz numpy com a previsão de classe\n",
        "\n",
        "*Since `model.predict_classes()` has been deprecated, we now use the formula below to get the classes predictions where `np.argmax(y_pred, axis=1)` returns an numpy array with the class prediction*"
      ],
      "metadata": {
        "id": "hIGbjFro3FGD"
      }
    },
    {
      "cell_type": "code",
      "source": [
        "print(y_pred.shape)\n",
        "print(y_pred[0])\n",
        "y_pred_after = np.argmax(y_pred, axis=1)\n",
        "print(y_pred_after.shape)\n",
        "print(y_pred_after[0])"
      ],
      "metadata": {
        "colab": {
          "base_uri": "https://localhost:8080/"
        },
        "id": "ravq2eCVsKsE",
        "outputId": "58fb431e-eb0f-4f64-a7e5-f93d19ba5b6e"
      },
      "execution_count": 7,
      "outputs": [
        {
          "output_type": "stream",
          "name": "stdout",
          "text": [
            "(10000, 10)\n",
            "[6.6972050e-09 3.2300707e-10 7.7427126e-07 1.8137715e-07 4.1326209e-10\n",
            " 6.9152162e-10 2.6084398e-14 9.9999702e-01 2.8121315e-07 1.7903146e-06]\n",
            "(10000,)\n",
            "7\n"
          ]
        }
      ]
    },
    {
      "cell_type": "markdown",
      "source": [],
      "metadata": {
        "id": "9H7AJg2HckKE"
      }
    },
    {
      "cell_type": "code",
      "source": [
        "with tpu_strategy.scope():\n",
        "  con_mat = tf.math.confusion_matrix(labels=y_true, predictions=y_pred_after).numpy()\n",
        "  con_mat_norm = np.around(con_mat.astype('float') / con_mat.sum(axis=1)[:, np.newaxis], decimals=2)\n",
        "\n",
        "  con_mat_df = pd.DataFrame(con_mat_norm,\n",
        "                       index = classes,\n",
        "                       columns = classes)\n",
        "\n",
        "figure = plt.figure(figsize=(8, 8))\n",
        "sns.heatmap(con_mat_df, annot=True,cmap=plt.cm.Blues)\n",
        "plt.tight_layout()\n",
        "plt.ylabel('True label')\n",
        "plt.xlabel('Predicted label')\n",
        "plt.show()"
      ],
      "metadata": {
        "colab": {
          "base_uri": "https://localhost:8080/",
          "height": 826
        },
        "id": "MMRWmBQKqoCr",
        "outputId": "4869329a-2dca-41a8-da68-bcd49d549d10"
      },
      "execution_count": 8,
      "outputs": [
        {
          "output_type": "display_data",
          "data": {
            "text/plain": [
              "<Figure size 800x800 with 2 Axes>"
            ],
            "image/png": "[encoded data removed]"
          },
          "metadata": {}
        }
      ]
    },
    {
      "cell_type": "markdown",
      "source": [
        "Agora com os resultados da confusion matrix plotados no gráfico acima, calcularemos a acurácia, sensibilidade, fscore e curva de hoc.\n",
        "\n",
        "*Now with the confusion matrix results plotted in the graphs above, we will calculate the accuracy, sensitivity, fscore and hoc curve.*"
      ],
      "metadata": {
        "id": "l8ibqmBL_U8J"
      }
    },
    {
      "cell_type": "code",
      "source": [
        "# Sensibilidade geral\n",
        "sen = metrics.recall_score(y_true, y_pred_after, average='macro')\n",
        "print('Sensibilidade geral: ', sen, '\\n')\n",
        "\n",
        "# Precisão\n",
        "pre = metrics.precision_score(y_true, y_pred_after, average='macro')\n",
        "print('Precisão: ', pre, '\\n')\n",
        "\n",
        "# Acuracia\n",
        "acc = metrics.accuracy_score(y_true, y_pred_after)\n",
        "print('Acurácia: ', acc, '\\n')\n",
        "\n",
        "# F-score\n",
        "fscore = metrics.f1_score(y_true, y_pred_after, average='macro')\n",
        "print('F-score: ', fscore, '\\n')\n",
        "\n",
        "# Roc auc\n",
        "roc_auc = metrics.roc_auc_score(y_true, y_pred, multi_class='ovr', average='weighted')\n",
        "print('ROC AUC: ', roc_auc, '\\n')"
      ],
      "metadata": {
        "colab": {
          "base_uri": "https://localhost:8080/"
        },
        "id": "eEcmPhmw_nVh",
        "outputId": "d36e963c-3da5-464b-9469-d32aa9e2db09"
      },
      "execution_count": 9,
      "outputs": [
        {
          "output_type": "stream",
          "name": "stdout",
          "text": [
            "Sensibilidade geral:  0.9837494848918211 \n",
            "\n",
            "Precisão:  0.9837156961875749 \n",
            "\n",
            "Acurácia:  0.9838 \n",
            "\n",
            "F-score:  0.98371047271003 \n",
            "\n",
            "ROC AUC:  0.9998013342505441 \n",
            "\n"
          ]
        }
      ]
    },
    {
      "cell_type": "markdown",
      "source": [
        "Para calcularmos o gráfico com a curva roc precisamos primeiro garantir os valores para a taxa de verdadeiros positivos (TVP, ou sensibilidade) e a taxa de falsos positivos (TFP, ou especificidade) para cada classe.\n",
        "\n",
        "O código abaixo foi extraído do [**Github de Vinícius Trevisan**](https://github.com/vinyluis/Articles/blob/main/ROC%20Curve%20and%20ROC%20AUC/ROC%20Curve%20-%20Multiclass.ipynb) e modificado para interpretar nossos dados multiclasse.\n",
        "\n",
        "A primeira função define as taxas extraídas da matriz de confusão pelos índices `TN[0,0] FP[0,1] FN[1,0] TP[1,1]`\n",
        "\n",
        "A segunda função `get_all_roc_coordinates` itera sobre cada probabilidade calculada pelo modelo, para cada classe, e calcula as taxas TVP e TFP fazendo uma comparação entre o real valor orginal e o valor predito pelo modelo.\n",
        "\n",
        "A terceira função `plot_roc_curve` recebe os valores TVP e TFP e plota a curva de roc. O parâmetro `ax` funciona como um objeto axes do matplotlibe e funciona apenas como um costumizador de gráfico."
      ],
      "metadata": {
        "id": "wqhsgVl7_Kg2"
      }
    },
    {
      "cell_type": "markdown",
      "source": [
        "*To calculate the ROC curve graph, we first need to ensure the values ​​for the true positive rate (TVP, or sensitivity) and the false positive rate (FPR, or specificity) for each class.*\n",
        "\n",
        "The code below was extracted from [**Vinícius Trevisan's Github**](https://github.com/vinyluis/Articles/blob/main/ROC%20Curve%20and%20ROC%20AUC/ROC%20Curve%20-%20Multiclass.ipynb) and modified to interpret our multiclass data.\n",
        "\n",
        "*The first function defines the rates extracted from the confusion matrix by the indices `TN[0,0] FP[0,1] FN[1,0] TP[1,1]`*\n",
        "\n",
        "*The second function `get_all_roc_coordinates` iterates over each probability calculated by the model, for each class, and calculates the TVP and TFP rates by comparing the original real value and the value predicted by the model.*\n",
        "\n",
        "*The third function `plot_roc_curve` receives the TVP and TFP values ​​and plots the roc curve. The `ax` parameter works like a matplotlibe axes object and works only as a graph customizer.*"
      ],
      "metadata": {
        "id": "YXBpvL9d27Rn"
      }
    },
    {
      "cell_type": "code",
      "source": [
        "def calculate_tpr_fpr(y_real, y_pred):\n",
        "    '''\n",
        "    Calculates the True Positive Rate (tpr) and the True Negative Rate (fpr) based on real and predicted observations\n",
        "\n",
        "    Args:\n",
        "        y_real: The list or series with the real classes\n",
        "        y_pred: The list or series with the predicted classes\n",
        "\n",
        "    Returns:\n",
        "        tpr: The True Positive Rate of the classifier\n",
        "        fpr: The False Positive Rate of the classifier\n",
        "    '''\n",
        "\n",
        "    # Calculates the confusion matrix and recover each element\n",
        "    cm = tf.math.confusion_matrix(y_real, y_pred).numpy()\n",
        "    TN = cm[0, 0]\n",
        "    FP = cm[0, 1]\n",
        "    FN = cm[1, 0]\n",
        "    TP = cm[1, 1]\n",
        "\n",
        "    # Calculates tpr and fpr\n",
        "    tpr =  TP/(TP + FN) # sensitivity - true positive rate\n",
        "    fpr = 1 - TN/(TN+FP) # 1-specificity - false positive rate\n",
        "\n",
        "    return tpr, fpr"
      ],
      "metadata": {
        "id": "lAkg8wwsZx2_"
      },
      "execution_count": 10,
      "outputs": []
    },
    {
      "cell_type": "code",
      "source": [
        "def get_all_roc_coordinates(y_real, y_proba):\n",
        "    '''\n",
        "    Calculates all the ROC Curve coordinates (tpr and fpr) by considering each point as a threshold for the predicion of the class.\n",
        "\n",
        "    Args:\n",
        "        y_real: The list or series with the real classes.\n",
        "        y_proba: The array with the probabilities for each class, obtained by using the `.predict_proba()` method.\n",
        "\n",
        "    Returns:\n",
        "        tpr_list: The list of TPRs representing each threshold.\n",
        "        fpr_list: The list of FPRs representing each threshold.\n",
        "    '''\n",
        "    tpr_list = [0]\n",
        "    fpr_list = [0]\n",
        "    for i in range(len(y_proba)):\n",
        "        threshold = y_proba[i]\n",
        "        y_pred = y_proba >= threshold\n",
        "        tpr, fpr = calculate_tpr_fpr(y_real, y_pred)\n",
        "        tpr_list.append(tpr)\n",
        "        fpr_list.append(fpr)\n",
        "    return tpr_list, fpr_list"
      ],
      "metadata": {
        "id": "TAZrvTxydFq5"
      },
      "execution_count": 11,
      "outputs": []
    },
    {
      "cell_type": "code",
      "source": [
        "def plot_roc_curve(tpr, fpr, ax = None):\n",
        "    '''\n",
        "    Plots the ROC Curve by using the list of coordinates (tpr and fpr).\n",
        "\n",
        "    Args:\n",
        "        tpr: The list of TPRs representing each coordinate.\n",
        "        fpr: The list of FPRs representing each coordinate.\n",
        "        scatter: When True, the points used on the calculation will be plotted with the line (default = True).\n",
        "    '''\n",
        "\n",
        "    sns.lineplot(x = fpr, y = tpr, ax = ax)\n",
        "    sns.lineplot(x = [0, 1], y = [0, 1], color = 'green', ax = ax)\n",
        "    plt.xlim(-0.05, 1.05)\n",
        "    plt.ylim(-0.05, 1.05)\n",
        "    plt.xlabel(\"False Positive Rate\")\n",
        "    plt.ylabel(\"True Positive Rate\")"
      ],
      "metadata": {
        "id": "mCiL89tEdfjJ"
      },
      "execution_count": 12,
      "outputs": []
    },
    {
      "cell_type": "markdown",
      "source": [
        "Esta seção transforma as probabilidades previstas em um formato estruturado de DataFrame, que é então usado para calcular e plotar curvas ROC para avaliar o desempenho do modelo de classificação em uma base por classe. Essencialmente, ele cria um cenário de classificação binária para cada classe para avaliar quão bem o modelo distingue entre essa classe e todas as outras classes. O modelo OvR (One vs Rest) foi usado pois é a comparação que queremos neste caso específico (chance de previsão correta do numero 0 sobre todos outros números).\n",
        "\n",
        "This section transforms the predicted probabilities into a structured DataFrame format, which is then used to calculate and plot ROC curves for evaluating the performance of the classification model on a per-class basis. It essentially creates a binary classification scenario for each class to evaluate how well the model distinguishes between that class and all other classes. OvR (One vs Rest) model was used because it is the comparison we want in this specific case (chance of correct prediction of number 0 over all other numbers).\n"
      ],
      "metadata": {
        "id": "nUUeaxPZfihE"
      }
    },
    {
      "cell_type": "code",
      "source": [
        "# Plots the Probability Distributions and the ROC Curves One vs Rest for classes 0, 1, and 2\n",
        "plt.figure(figsize=(12, 8))\n",
        "roc_auc_ovr = {}\n",
        "\n",
        "# Filter classes to only include 0, 1, and 2\n",
        "selected_classes = [0, 1, 2]\n",
        "\n",
        "for i, c in enumerate(selected_classes):  # Iterate through selected classes with index\n",
        "\n",
        "    # Use the generated column names, and remove 'target' from columns\n",
        "    df_aux = pd.DataFrame(test_labels)\n",
        "    df_aux['class'] = [1 if y == c else 0 for y in test_labels]\n",
        "    df_aux['prob'] = y_pred[:, c]  # Use the correct column for probability\n",
        "    df_aux = df_aux.reset_index(drop=True)\n",
        "\n",
        "    # Calculates the ROC Coordinates and plots the ROC Curves\n",
        "    ax_bottom = plt.subplot(2, 3, i + 4)  # Adjust subplot index\n",
        "    tpr, fpr = get_all_roc_coordinates(df_aux['class'], df_aux['prob'])\n",
        "    plot_roc_curve(tpr, fpr, ax=ax_bottom)\n",
        "    ax_bottom.set_title(f\"ROC Curve OvR for class: {c}\")\n",
        "\n",
        "    # Calculates the ROC AUC OvR\n",
        "    roc_auc_ovr[c] = metrics.roc_auc_score(df_aux['class'], df_aux['prob'])\n",
        "\n",
        "plt.tight_layout()"
      ],
      "metadata": {
        "colab": {
          "base_uri": "https://localhost:8080/",
          "height": 447
        },
        "id": "Zw2HZSP1kldo",
        "outputId": "709003c0-fd14-4ec0-c50c-417d7347f34f"
      },
      "execution_count": 13,
      "outputs": [
        {
          "output_type": "display_data",
          "data": {
            "text/plain": [
              "<Figure size 1200x800 with 3 Axes>"
            ],
            "image/png": "[encoded data removed]"
          },
          "metadata": {}
        }
      ]
    },
    {
      "cell_type": "markdown",
      "source": [
        "# Interpretação do valor AUC\n",
        "Os valores de AUC fornecem uma referência rápida para você entender o desempenho do modelo. Quando o AUC está próximo de 1, nosso modelo está no topo de avaliação.\n",
        "\n",
        "A curva de quase noventa graus dos gráficos acima indicam que o modelo está performando próximo do perfeito.\n",
        "\n",
        "*AUC values ​​provide a quick reference to help you understand how well your model is performing. When the AUC is close to 1, your model is at the top of its game.*\n",
        "\n",
        "*The nearly ninety-degree curve in the graphs above indicates that the model is performing close to perfection.*"
      ],
      "metadata": {
        "id": "3EEiFemI-Od5"
      }
    },
    {
      "cell_type": "markdown",
      "source": [
        "# Referências\n",
        "\n",
        "[***MNIST - Ultralytics YOLO Docs***](https://docs.ultralytics.com/pt/datasets/classify/mnist/#:~:text=O%20conjunto%20de%20dados%20MNIST%20(Modified%20National%20Institute%20of%20Standards,e%20modelos%20de%20aprendizagem%20autom%C3%A1tica.)\n",
        "\n",
        "[***AUC e a curva ROC no aprendizado de máquina***](https://www.datacamp.com/pt/tutorial/auc)\n",
        "\n",
        "[***Multiclass classification evaluation with ROC Curves and ROC AUC - Vinícius Trevisan***](https://towardsdatascience.com/multiclass-classification-evaluation-with-roc-curves-and-roc-auc-294fd4617e3a)"
      ],
      "metadata": {
        "id": "kqozcoQzDAXV"
      }
    }
  ]
}